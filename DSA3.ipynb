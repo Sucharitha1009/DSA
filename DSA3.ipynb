{
 "cells": [
  {
   "cell_type": "code",
   "execution_count": 11,
   "id": "374f8fbc-b17d-41cf-8d43-396b653eeaa3",
   "metadata": {},
   "outputs": [
    {
     "name": "stdin",
     "output_type": "stream",
     "text": [
      "enter the number of elements: 5\n"
     ]
    },
    {
     "name": "stdout",
     "output_type": "stream",
     "text": [
      "Enter 5 elements\n"
     ]
    },
    {
     "name": "stdin",
     "output_type": "stream",
     "text": [
      " 3\n",
      " 5\n",
      " 7\n",
      " 2\n",
      " 1\n"
     ]
    },
    {
     "name": "stdout",
     "output_type": "stream",
     "text": [
      "Sorted Array [1, 2, 3, 5, 7]\n"
     ]
    }
   ],
   "source": [
    "def selection_sort(arr):\n",
    "    n=len(arr)\n",
    "    for i in range(n):\n",
    "        min_index=i\n",
    "        for j in range(i+1,n):\n",
    "            if arr[j]<arr[min_index]:\n",
    "                min_index=j\n",
    "         arr[i],arr[min_index]=arr[min_index],arr[i]\n",
    "    return arr\n",
    "size=int(input(\"enter the number of elements:\"))\n",
    "arr=[]\n",
    "print(\"Enter\", size, \"elements\")\n",
    "for _ in range(size):\n",
    "    number=int(input())\n",
    "    arr.append(number)\n",
    "result=selection_sort(arr)\n",
    "print(\"Sorted Array\",result)"
   ]
  },
  {
   "cell_type": "code",
   "execution_count": null,
   "id": "db46222c-7e64-4827-9249-ba2586a2f3b3",
   "metadata": {},
   "outputs": [],
   "source": []
  },
  {
   "cell_type": "code",
   "execution_count": 15,
   "id": "14c18efb-09eb-4d91-b6a4-cc5b97873fc8",
   "metadata": {},
   "outputs": [
    {
     "name": "stdin",
     "output_type": "stream",
     "text": [
      "enter the number of elements: 5\n"
     ]
    },
    {
     "name": "stdout",
     "output_type": "stream",
     "text": [
      "Enter 5 elements\n"
     ]
    },
    {
     "name": "stdin",
     "output_type": "stream",
     "text": [
      " 3\n",
      " 4\n",
      " 2\n",
      " 1\n",
      " 7\n"
     ]
    },
    {
     "name": "stdout",
     "output_type": "stream",
     "text": [
      "Sorted Array [1, 2, 3, 4, 7]\n"
     ]
    }
   ],
   "source": [
    "def insertion_sort(arr):\n",
    "    for i in range(1,len(arr)):\n",
    "        key=arr[i]\n",
    "        j=i-1\n",
    "        while j>=0 and arr[j]>key:\n",
    "            arr[j+1]=arr[j]\n",
    "            j-=1\n",
    "        arr[j+1]=key\n",
    "    return arr\n",
    "size=int(input(\"enter the number of elements:\"))\n",
    "arr=[]\n",
    "print(\"Enter\", size, \"elements\")\n",
    "for _ in range(size):\n",
    "    number=int(input())\n",
    "    arr.append(number)\n",
    "result=insertion_sort(arr)\n",
    "print(\"Sorted Array\",result)"
   ]
  },
  {
   "cell_type": "code",
   "execution_count": 1,
   "id": "32261a57-0d69-441a-aeb8-6476d677c753",
   "metadata": {},
   "outputs": [
    {
     "name": "stdin",
     "output_type": "stream",
     "text": [
      "enter the number of elements: 3\n"
     ]
    },
    {
     "name": "stdout",
     "output_type": "stream",
     "text": [
      "Enter 3 elements\n"
     ]
    },
    {
     "name": "stdin",
     "output_type": "stream",
     "text": [
      " banana \n",
      " apple\n",
      " cherry\n"
     ]
    },
    {
     "name": "stdout",
     "output_type": "stream",
     "text": [
      "Sorted Array ['apple', 'banana ', 'cherry']\n"
     ]
    }
   ],
   "source": [
    "def insertion_sort(arr):\n",
    "    for i in range(1,len(arr)):\n",
    "        key=arr[i]\n",
    "        j=i-1\n",
    "        while j>=0 and arr[j]>key:\n",
    "            arr[j+1]=arr[j]\n",
    "            j-=1\n",
    "        arr[j+1]=key\n",
    "    return arr\n",
    "size=int(input(\"enter the number of elements:\"))\n",
    "arr=[]\n",
    "print(\"Enter\", size, \"elements\")\n",
    "for _ in range(size):\n",
    "    number=(input())\n",
    "    arr.append(number)\n",
    "result=insertion_sort(arr)\n",
    "print(\"Sorted Array\",result)"
   ]
  },
  {
   "cell_type": "code",
   "execution_count": 5,
   "id": "7df6ca76-87bd-4e2b-afcc-93c3fe81d034",
   "metadata": {},
   "outputs": [
    {
     "name": "stdin",
     "output_type": "stream",
     "text": [
      "enter the number of elements: 4\n"
     ]
    },
    {
     "name": "stdout",
     "output_type": "stream",
     "text": [
      "Enter 4 elements\n"
     ]
    },
    {
     "name": "stdin",
     "output_type": "stream",
     "text": [
      " care\n",
      " car\n",
      " if\n",
      " carrr\n"
     ]
    },
    {
     "name": "stdout",
     "output_type": "stream",
     "text": [
      "Sorted Array ['if', 'car', 'care', 'carrr']\n"
     ]
    }
   ],
   "source": [
    "'''perform insertion sort on strings based on length of the words'''\n",
    "def insertion_sort(arr):\n",
    "    for i in range(1,len(arr)):\n",
    "        key=arr[i]\n",
    "        j=i-1\n",
    "        while j>=0 and len(arr[j])>len(key):\n",
    "            arr[j+1]=arr[j]\n",
    "            j-=1\n",
    "        arr[j+1]=key\n",
    "    return arr\n",
    "size=int(input(\"enter the number of elements:\"))\n",
    "arr=[]\n",
    "print(\"Enter\", size, \"elements\")\n",
    "for _ in range(size):\n",
    "    number=(input())\n",
    "    arr.append(number)\n",
    "result=insertion_sort(arr)\n",
    "print(\"Sorted Array\",result)"
   ]
  },
  {
   "cell_type": "code",
   "execution_count": 3,
   "id": "f2d1471c-d4bb-4109-90da-651691f4c16b",
   "metadata": {},
   "outputs": [
    {
     "name": "stdin",
     "output_type": "stream",
     "text": [
      "enter the string sucharitha\n"
     ]
    },
    {
     "name": "stdout",
     "output_type": "stream",
     "text": [
      "Sorted Characters: aachhirstu\n"
     ]
    }
   ],
   "source": [
    "def insertion_sort(arr):\n",
    "    for i in range(1,len(arr)):\n",
    "        key=arr[i]\n",
    "        j=i-1\n",
    "        while j>=0 and arr[j]>key:\n",
    "            arr[j+1]=arr[j]\n",
    "            j-=1\n",
    "        arr[j+1]=key\n",
    "    return arr\n",
    "s=input(\"enter the string\")\n",
    "c=list(s)\n",
    "sort_c=insertion_sort(c)\n",
    "print(\"Sorted Characters:\",''.join(c))"
   ]
  },
  {
   "cell_type": "code",
   "execution_count": null,
   "id": "29325bff-9386-409d-b849-77bafad66928",
   "metadata": {},
   "outputs": [],
   "source": []
  }
 ],
 "metadata": {
  "kernelspec": {
   "display_name": "Python 3 (ipykernel)",
   "language": "python",
   "name": "python3"
  },
  "language_info": {
   "codemirror_mode": {
    "name": "ipython",
    "version": 3
   },
   "file_extension": ".py",
   "mimetype": "text/x-python",
   "name": "python",
   "nbconvert_exporter": "python",
   "pygments_lexer": "ipython3",
   "version": "3.12.7"
  }
 },
 "nbformat": 4,
 "nbformat_minor": 5
}
