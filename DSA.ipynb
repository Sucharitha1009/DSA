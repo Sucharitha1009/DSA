{
 "cells": [
  {
   "cell_type": "code",
   "execution_count": 7,
   "id": "3d6bd7eb-88ec-40d0-9aef-86cd838045a4",
   "metadata": {},
   "outputs": [
    {
     "name": "stdout",
     "output_type": "stream",
     "text": [
      "[10, 20, 25, 30, 40, 50]\n",
      "10 20 25 30 40 50 10 20 25 40 \n",
      " 25 in array? True\n"
     ]
    }
   ],
   "source": [
    "#Array Operations\n",
    "#program to consider a list arr=[10,20,30,40] and perfor insert operation and\n",
    "# with 50 and 25 at position 2 respectively delete 30 and traverse the array to fetch a \n",
    "# number 25 is present or not\n",
    "arr=[10,20,30,40]\n",
    "arr.append(50)\n",
    "arr.insert(2,25)\n",
    "print(arr)\n",
    "for i in arr:\n",
    "    print(i,end=' ')\n",
    "#deletion\n",
    "arr.remove(30)\n",
    "arr.pop()\n",
    "for i in arr:\n",
    "    print(i,end=' ')\n",
    "#searching\n",
    "print(\"\\n 25 in array?\", 25 in arr)\n",
    "    \n"
   ]
  },
  {
   "cell_type": "code",
   "execution_count": 3,
   "id": "296f237e-f7c4-4ab2-b69d-c70c69a93a45",
   "metadata": {},
   "outputs": [
    {
     "name": "stdin",
     "output_type": "stream",
     "text": [
      "enter a name malayalam\n"
     ]
    },
    {
     "name": "stdout",
     "output_type": "stream",
     "text": [
      "palindrome\n",
      "{'m': 2, 'a': 4, 'l': 2, 'y': 1}\n"
     ]
    }
   ],
   "source": [
    "''' program to check whether the give string is palindrome or not\n",
    "and count the palandromic characters which are repeated \n",
    "str=madam\n",
    "output:{'m':2,'a':2,'d':1}\n",
    "str=malayalam'''\n",
    "s=input(\"enter a name\")\n",
    "if s==s[::-1]:\n",
    "    print(\"palindrome\")\n",
    "else:\n",
    "    print(\"not\")\n",
    "freq={}\n",
    "for ch in s:\n",
    "    freq[ch]=freq.get(ch,0)+1\n",
    "print(freq)"
   ]
  },
  {
   "cell_type": "code",
   "execution_count": 9,
   "id": "752808a1-0eff-405e-b287-dc29a2279f0b",
   "metadata": {},
   "outputs": [
    {
     "name": "stdin",
     "output_type": "stream",
     "text": [
      "enter the size of array: 5\n"
     ]
    },
    {
     "name": "stdout",
     "output_type": "stream",
     "text": [
      "enter the elements:\n"
     ]
    },
    {
     "name": "stdin",
     "output_type": "stream",
     "text": [
      "Element 1: 22\n",
      "Element 2: 44\n",
      "Element 3: 33\n",
      "Element 4: 55\n",
      "Element 5: 66\n",
      "enter the element to search: 11\n"
     ]
    },
    {
     "name": "stdout",
     "output_type": "stream",
     "text": [
      "\n",
      " Element 11 not found\n"
     ]
    }
   ],
   "source": [
    "def linear_search(arr,key):\n",
    "    for i in range(len(arr)):\n",
    "        if arr[i]==key:\n",
    "            return i\n",
    "    return -1\n",
    "            \n",
    "size=int(input(\"enter the size of array:\"))\n",
    "arr=[]\n",
    "print(\"enter the elements:\")\n",
    "for i in range(size):\n",
    "    num=int(input(f\"Element {i+1}:\"))\n",
    "    arr.append(num)\n",
    "key=int(input(\"enter the element to search:\"))\n",
    "result=linear_search(arr,key)\n",
    "if result != -1:\n",
    "    print(f\"\\n Element {key} found at {result}\")\n",
    "else:\n",
    "    print(f\"\\n Element {key} not found\")"
   ]
  },
  {
   "cell_type": "code",
   "execution_count": null,
   "id": "82c2c414-09cc-4e94-874a-1e3ccef97324",
   "metadata": {},
   "outputs": [],
   "source": []
  }
 ],
 "metadata": {
  "kernelspec": {
   "display_name": "Python 3 (ipykernel)",
   "language": "python",
   "name": "python3"
  },
  "language_info": {
   "codemirror_mode": {
    "name": "ipython",
    "version": 3
   },
   "file_extension": ".py",
   "mimetype": "text/x-python",
   "name": "python",
   "nbconvert_exporter": "python",
   "pygments_lexer": "ipython3",
   "version": "3.12.7"
  }
 },
 "nbformat": 4,
 "nbformat_minor": 5
}
